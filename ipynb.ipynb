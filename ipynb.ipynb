{
 "cells": [
  {
   "cell_type": "code",
   "execution_count": 32,
   "metadata": {},
   "outputs": [
    {
     "name": "stdout",
     "output_type": "stream",
     "text": [
      "0 to 6.004073816670856 6%\n",
      "6.004073816670856 to 12.33161311310571 6%\n",
      "12.33161311310571 to 17.689402901208094 5%\n",
      "17.689402901208094 to 23.923784139470918 6%\n",
      "23.923784139470918 to 29.280926996613776 5%\n",
      "29.280926996613776 to 36.01603279755127 7%\n",
      "36.01603279755127 to 41.53749611841424 6%\n",
      "41.53749611841424 to 46.98132772413385 5%\n",
      "46.98132772413385 to 53.71708045603087 7%\n",
      "53.71708045603087 to 62.719679270114 9%\n",
      "62.719679270114 to 74.4503859405267 12%\n",
      "74.4503859405267 to 85.72824093926981 11%\n",
      "85.72824093926981 to 91.12096499918671 5%\n",
      "91.12096499918671 to 100.0 9%\n"
     ]
    }
   ],
   "source": [
    "data = [1000, 1500, 1, 1356, 0, 2130, 254, 134, 2131, 5635, 9852, 9152, 55, 5444]\n",
    "total_sum = sum(data)\n",
    "data_len = len(data)\n",
    "min_value = 10\n",
    "\n",
    "\n",
    "if data_len*min_value>100:\n",
    "    min_value = 75/data_len\n",
    "\n",
    "pourc= []\n",
    "startFrom = 0\n",
    "\n",
    "for n in data:\n",
    "    percentage = min_value + (100 - data_len * min_value) * n / total_sum\n",
    "    print(startFrom, \"to\",percentage+startFrom, str(round(percentage))+\"%\")\n",
    "    startFrom += percentage"
   ]
  }
 ],
 "metadata": {
  "kernelspec": {
   "display_name": "Python 3",
   "language": "python",
   "name": "python3"
  },
  "language_info": {
   "codemirror_mode": {
    "name": "ipython",
    "version": 3
   },
   "file_extension": ".py",
   "mimetype": "text/x-python",
   "name": "python",
   "nbconvert_exporter": "python",
   "pygments_lexer": "ipython3",
   "version": "3.11.5"
  }
 },
 "nbformat": 4,
 "nbformat_minor": 2
}

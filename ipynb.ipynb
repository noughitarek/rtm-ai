{
 "cells": [
  {
   "cell_type": "code",
   "execution_count": 16,
   "metadata": {},
   "outputs": [
    {
     "name": "stdout",
     "output_type": "stream",
     "text": [
      "0 10%\n",
      "0 10%\n",
      "1 70%\n",
      "0 10%\n"
     ]
    }
   ],
   "source": [
    "data = [1000, 1500, 1, 1356, 0, 2130, 254, 134, 2131, 5635, 9852, 9152, 55, 5444]\n",
    "total_sum = sum(data)\n",
    "data_len = len(data)\n",
    "min_value = 10\n",
    "\n",
    "\n",
    "if data_len*min_value>100:\n",
    "    min_value = 75/data_len\n",
    "\n",
    "pourc= []\n",
    "startFrom = 0\n",
    "\n",
    "for n in data:\n",
    "    percentage = min_value + (100 - data_len * min_value) * n / total_sum\n",
    "    print(startFrom, \"to\",percentage+startFrom, str(round(percentage))+\"%\")\n",
    "    startFrom += percentage"
   ]
  },
  {
   "cell_type": "code",
   "execution_count": 25,
   "metadata": {},
   "outputs": [
    {
     "name": "stdout",
     "output_type": "stream",
     "text": [
      "[0.014814814814814815, 0.037037037037037035, 0.08333333333333333, 0.5, 0.014814814814814815, 0.037037037037037035, 0.08333333333333333, 0.5, 0.014814814814814815, 0.037037037037037035, 0.08333333333333333, 0.5]\n",
      "0 to 6.4443634596695825 6%\n",
      "6.4443634596695825 to 13.180272108843537 7%\n",
      "13.180272108843537 to 20.523566569484935 7%\n",
      "20.523566569484935 to 33.33333333333333 13%\n",
      "33.33333333333333 to 39.77769679300291 6%\n",
      "39.77769679300291 to 46.51360544217687 7%\n",
      "46.51360544217687 to 53.85689990281827 7%\n",
      "53.85689990281827 to 66.66666666666667 13%\n",
      "66.66666666666667 to 73.11103012633626 6%\n",
      "73.11103012633626 to 79.84693877551021 7%\n",
      "79.84693877551021 to 87.19023323615161 7%\n",
      "87.19023323615161 to 100.00000000000001 13%\n"
     ]
    }
   ],
   "source": [
    "olddata = [[270, 4], [108,4], [12, 1], [2, 1], ]\n",
    "total_send=0\n",
    "total_roders=0\n",
    "data = []\n",
    "for n in olddata: \n",
    "    data.append(n[1]/n[0])\n",
    "    total_send += n[0]\n",
    "    total_roders += n[1]\n",
    "print(data)\n",
    "\n",
    "total_sum = sum(data)\n",
    "data_len = len(data)\n",
    "min_value = 10\n",
    "\n",
    "\n",
    "if data_len*min_value>100:\n",
    "    min_value = 75/data_len\n",
    "\n",
    "pourc= []\n",
    "startFrom = 0\n",
    "\n",
    "for n in data:\n",
    "    percentage = min_value + (100 - data_len * min_value) * n / total_sum\n",
    "    print(startFrom, \"to\",percentage+startFrom, str(round(percentage))+\"%\")\n",
    "    startFrom += percentage\n"
   ]
  }
 ],
 "metadata": {
  "kernelspec": {
   "display_name": "Python 3",
   "language": "python",
   "name": "python3"
  },
  "language_info": {
   "codemirror_mode": {
    "name": "ipython",
    "version": 3
   },
   "file_extension": ".py",
   "mimetype": "text/x-python",
   "name": "python",
   "nbconvert_exporter": "python",
   "pygments_lexer": "ipython3",
   "version": "3.11.5"
  }
 },
 "nbformat": 4,
 "nbformat_minor": 2
}
